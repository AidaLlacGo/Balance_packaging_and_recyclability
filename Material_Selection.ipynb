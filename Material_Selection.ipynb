{
  "cells": [
    {
      "cell_type": "markdown",
      "metadata": {
        "id": "Tzsz9LY7gTnV"
      },
      "source": [
        "# Balance packaging and recyclability"
      ]
    },
    {
      "cell_type": "markdown",
      "metadata": {
        "id": "iavewTA_Fca0"
      },
      "source": [
        "## 1. Read data"
      ]
    },
    {
      "cell_type": "markdown",
      "metadata": {
        "id": "AFL2h3OGFlYc"
      },
      "source": [
        "### 1.1. Upload **file**"
      ]
    },
    {
      "cell_type": "code",
      "execution_count": null,
      "metadata": {
        "colab": {
          "base_uri": "https://localhost:8080/",
          "height": 74,
          "resources": {
            "http://localhost:8080/nbextensions/google.colab/files.js": {
              "data": "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",
              "headers": [
                [
                  "content-type",
                  "application/javascript"
                ]
              ],
              "ok": true,
              "status": 200,
              "status_text": ""
            }
          }
        },
        "id": "qyBr__UWFoDw",
        "outputId": "1251c1d9-c134-4461-cef7-ec92b205f019"
      },
      "outputs": [
        {
          "output_type": "display_data",
          "data": {
            "text/plain": [
              "<IPython.core.display.HTML object>"
            ],
            "text/html": [
              "\n",
              "     <input type=\"file\" id=\"files-6c6851c6-9628-4cda-ad34-5d208e66a1ee\" name=\"files[]\" multiple disabled\n",
              "        style=\"border:none\" />\n",
              "     <output id=\"result-6c6851c6-9628-4cda-ad34-5d208e66a1ee\">\n",
              "      Upload widget is only available when the cell has been executed in the\n",
              "      current browser session. Please rerun this cell to enable.\n",
              "      </output>\n",
              "      <script src=\"/nbextensions/google.colab/files.js\"></script> "
            ]
          },
          "metadata": {}
        },
        {
          "output_type": "stream",
          "name": "stdout",
          "text": [
            "Saving OutputMaterials.xlsx to OutputMaterials (3).xlsx\n"
          ]
        }
      ],
      "source": [
        "from google.colab import files\n",
        "uploaded = files.upload()"
      ]
    },
    {
      "cell_type": "markdown",
      "metadata": {
        "id": "ylKmocmcSVoV"
      },
      "source": [
        "### 1.2. Import & load sheets"
      ]
    },
    {
      "cell_type": "code",
      "execution_count": null,
      "metadata": {
        "id": "6eU_A_B_Gl4m"
      },
      "outputs": [],
      "source": [
        "import pandas as pd\n",
        "import io\n",
        "mat = pd.read_excel(io.BytesIO(uploaded ['OutputMaterials.xlsx']),sheet_name='material')\n",
        "fr = pd.read_excel(io.BytesIO(uploaded ['OutputMaterials.xlsx']),sheet_name='food_req',header=0, index_col=0)\n",
        "dim_mat = mat.shape\n",
        "dim_fr = fr.shape"
      ]
    },
    {
      "cell_type": "markdown",
      "metadata": {
        "id": "U2M9UtzvPjcU"
      },
      "source": [
        "### 1.3. Food type selection"
      ]
    },
    {
      "cell_type": "code",
      "execution_count": null,
      "metadata": {
        "id": "QxdvzsLUPmTV"
      },
      "outputs": [],
      "source": [
        "Food_Type = \"Fresh cheese\" #@param ['Butter','Carbonated drinks','Coffees/Teas',\"Cured meats\",'Fish high fat','Fresh cheese',\"High fat products\", 'Juice','Milk','Most Fruits','Most Vegetables','Powder high fat','Ready meals','Red meats',\"Snack foods\"]\n",
        "ft_prop = fr.loc[Food_Type]"
      ]
    },
    {
      "cell_type": "code",
      "execution_count": null,
      "metadata": {
        "colab": {
          "base_uri": "https://localhost:8080/"
        },
        "id": "Kcq-Q9Jjm6Iw",
        "outputId": "63cad35e-ac7c-43d4-9616-1319c32f3630"
      },
      "outputs": [
        {
          "output_type": "execute_result",
          "data": {
            "text/plain": [
              "O2          High\n",
              "CO2         High\n",
              "H2O         High\n",
              "Light       High\n",
              "Aroma     Medium\n",
              "Grease    Medium\n",
              "Name: Fresh cheese, dtype: object"
            ]
          },
          "metadata": {},
          "execution_count": 153
        }
      ],
      "source": [
        "ft_prop = fr.loc[Food_Type]\n",
        "ft_prop"
      ]
    },
    {
      "cell_type": "markdown",
      "metadata": {
        "id": "QB6AHWUmwuiH"
      },
      "source": [
        "## 2. Functions"
      ]
    },
    {
      "cell_type": "code",
      "execution_count": null,
      "metadata": {
        "id": "0LvaVhe1xUnn"
      },
      "outputs": [],
      "source": [
        "from numpy import maximum\n",
        "# --------------------------------------------------------------------\n",
        "#   Get selected food type requiremetns    \n",
        "# --------------------------------------------------------------------\n",
        "def GetParameters(ft_prop):\n",
        "  params = []\n",
        "  y = 0\n",
        "  for x in ft_prop:\n",
        "    if (x == 'Low'):    y = 5\n",
        "    if (x == 'Medium'): y = 3\n",
        "    if (x  == 'High'):  y = 1\n",
        "    params.append(y)\n",
        "  return params\n",
        "\n",
        "# --------------------------------------------------------------------\n",
        "#   Materials with similar properties     \n",
        "# --------------------------------------------------------------------\n",
        "def MaterialsWithSimilarProperties (params,din_mat,mat): \n",
        "  i = 0\n",
        "  rango     = []\n",
        "  oxygenbw  = []\n",
        "  oxlist    = []\n",
        "  aguabw    = []\n",
        "  aglist    = []\n",
        "  aromabw   = []\n",
        "  arlist    = []\n",
        "  grasabw   = []\n",
        "  grlist    = []\n",
        "  body      = []\n",
        "  barrier   = []\n",
        "  adhesive  = []\n",
        "  for x in params:\n",
        "    if (params[i] == 1 or params[i] == 2): \n",
        "      rango.append(1)\n",
        "      rango.append(2)\n",
        "    if (params[i] == 3): \n",
        "      rango.append(3)\n",
        "      rango.append(3)\n",
        "    if (params[i] == 4 or params[i] == 5): \n",
        "      rango.append(4)\n",
        "      rango.append(5)\n",
        "    i = i+1\n",
        "  for x in range(dim_mat[0]):\n",
        "    if mat.Oxygen[x] == rango[0] or mat.Oxygen[x] == rango[1]: \n",
        "      oxygenbw.append(mat.Material[x])\n",
        "      oxlist.append(x)\n",
        "    if mat.Water[x] == rango[2] or mat.Water[x] == rango[3]: \n",
        "      aguabw.append(mat.Material[x])\n",
        "      aglist.append(x)\n",
        "    if mat.Aroma[x] == rango[8] or mat.Aroma[x] == rango[9]: \n",
        "      aromabw.append(mat.Material[x])\n",
        "      arlist.append(x)\n",
        "    if mat.Grease[x] == rango[10] or mat.Grease[x] == rango[11]: \n",
        "      grasabw.append(mat.Material[x])\n",
        "      grlist.append(x)\n",
        "    if mat.BR[x] == 1:\n",
        "      body.append(mat.Material[x])\n",
        "    if mat.BR[x] == 3:\n",
        "      barrier.append(mat.Material[x]) \n",
        "    if mat.BR[x] == 5:\n",
        "      adhesive.append(mat.Material[x])   \n",
        "  return oxygenbw,oxlist,aguabw,aglist,aromabw,arlist,grasabw,grlist,body,barrier,adhesive\n",
        "\n",
        "# --------------------------------------------------------------------\n",
        "#   WASTE STREAM FILTER      \n",
        "# --------------------------------------------------------------------\n",
        "def WasteStreamFilter (oxlist,aglist,arlist,grlist):\n",
        "  oxygen = []\n",
        "  agua   = []  \n",
        "  aroma  = []\n",
        "  grasa  = []\n",
        "  for i in oxlist:\n",
        "    if mat.WS[i] < 4:\n",
        "      oxygen.append(mat.Material[i])\n",
        "  for i in aglist:\n",
        "    if mat.WS[i] < 4:\n",
        "      agua.append(mat.Material[i])\n",
        "  for i in arlist:\n",
        "    if mat.WS[i] < 4:\n",
        "      aroma.append(mat.Material[i])\n",
        "  for i in grlist:\n",
        "    if mat.WS[i] < 4:\n",
        "      grasa.append(mat.Material[i])\n",
        "  return oxygen,agua,aroma,grasa\n",
        "\n",
        "# --------------------------------------------------------------------\n",
        "#   WASTE STREAM FILTER      \n",
        "# --------------------------------------------------------------------\n",
        "def WSFilter (barrier,mat):\n",
        "  b_nr = []\n",
        "  b_ws = []\n",
        "  bar = []\n",
        "  x = 0\n",
        "  y = 0\n",
        "  for i in mat.Material:\n",
        "    if i in barrier:\n",
        "      b_nr.append(x)\n",
        "      b_ws.append(mat.WS[x])\n",
        "    x += 1\n",
        "  for i in barrier:\n",
        "    if b_ws[y] < 4:\n",
        "      bar.append(i)\n",
        "    y += 1\n",
        "  return bar\n",
        "\n",
        "# --------------------------------------------------------------------\n",
        "#   REPEATED MATERIALS     \n",
        "# --------------------------------------------------------------------\n",
        "def RepeatedMaterials (oxygen,agua,aroma,grasa):\n",
        "  matlist = []\n",
        "  times   = []\n",
        "  for i in oxygen:\n",
        "    matlist.append(i)\n",
        "    times.append(1)\n",
        "  for i in agua:\n",
        "    if i in matlist:\n",
        "      times[matlist.index(i)] += 1\n",
        "    else :\n",
        "      matlist.append(i)\n",
        "      times.append(1)\n",
        "  for i in aroma:\n",
        "    if i in matlist:\n",
        "      times[matlist.index(i)] += 1\n",
        "    else :\n",
        "      matlist.append(i)\n",
        "      times.append(1)\n",
        "  for i in grasa:\n",
        "    if i in matlist:\n",
        "      times[matlist.index(i)] += 1\n",
        "    else :\n",
        "      matlist.append(i)\n",
        "      times.append(1)\n",
        "  return matlist,times\n",
        "\n",
        "\n",
        "# --------------------------------------------------------------------\n",
        "#   FIND & PRINT SOLUTION      \n",
        "# --------------------------------------------------------------------\n",
        "def PrintSol (sol):\n",
        "  print(\"\\n ************************************************************************************* \\n\")\n",
        "  print(\"Congratulations, you have reached the beggining of the solution. Base materials:\", sol)\n",
        "  print(\"\\n ************************************************************************************* \\n\")\n",
        "  print(\"Now, a barrier will be needed for fullfiling the required criteria, threfore, it will be checked if an adhesive is needed too.\")\n",
        "  \n",
        "def BodyMat (matlist, times, body,num):\n",
        "  j = 0\n",
        "  sol = []\n",
        "  for i in matlist:\n",
        "    if times[j] == num :\n",
        "      if i in body:\n",
        "        if i == 'BOPET':\n",
        "          print(\"For BOPET -> Focus on rigid instead of flexible.\")\n",
        "        else:\n",
        "          sol.append(i)   \n",
        "    j += 1\n",
        "  return sol\n",
        "  \n",
        "def FindSol (matlist,times,body):\n",
        "  print(body)\n",
        "  num = 4 \n",
        "  sol = 0\n",
        "  while num > 1:\n",
        "    sol = BodyMat(matlist, times, body, num)\n",
        "    if bool(sol) != 0:\n",
        "      num =0\n",
        "    else: num -=1 \n",
        "  if bool(sol) == 0:\n",
        "      print(\"No material available\") # -> We'll see what to do here.\n",
        "  else: PrintSol(sol)\n",
        "  return sol\n",
        "\n",
        "def find_nr (sol,mat):\n",
        "  sol_nr = []\n",
        "  sol_resin = []\n",
        "  x = 0\n",
        "  for i in mat.Material:\n",
        "    if i in sol:\n",
        "      sol_nr.append(x)\n",
        "      sol_resin.append(mat.Resin[x])\n",
        "    x += 1\n",
        "  return [sol_nr,sol_resin]\n",
        "\n",
        "# --------------------------------------------------------------------\n",
        "#   MISSING ATTRIBUTES FOR EACH FOUND SOLUTION      \n",
        "# --------------------------------------------------------------------\n",
        "def MissingAtr (sol,oxygen,agua,aroma,grasa,params):\n",
        "  missing = []\n",
        "  for i in sol:\n",
        "    if (i in oxygen) == 0:\n",
        "      if params[0] < 4:\n",
        "        missing.append(\"ox\")\n",
        "      else: print(\"No need to add barrier to oxygen for:\", i)\n",
        "    if (i in agua) == 0:\n",
        "      if params[2] < 4:\n",
        "        missing.append(\"ag\")\n",
        "      else: print(\"No need to add barrier to water for:\",i)\n",
        "    if (i in aroma) == 0:\n",
        "      if params[4] < 4:\n",
        "        missing.append(\"ar\")\n",
        "      else: print(\"No need to add barrier to aroma for:\",i)\n",
        "    if (i in grasa) == 0:\n",
        "      if params[5] < 4:\n",
        "        missing.append(\"gr\")\n",
        "      else: print(\"No need to add barrier to grease for:\",i)\n",
        "    missing.append(i)\n",
        "  return missing \n",
        "\n",
        "# --------------------------------------------------------------------\n",
        "#   POSSIBLE BARRIERS FOR EACH SOLUTION    \n",
        "# --------------------------------------------------------------------\n",
        "def PossibleBarriers (sol, oxygen, agua, aroma, grasa, barrier):\n",
        "  n = 0\n",
        "  a = 0\n",
        "  total = []\n",
        "  barr = []\n",
        "  params = []\n",
        "  for i in sol:\n",
        "    j = missing[a]\n",
        "    while j != i:\n",
        "      total.append([]) \n",
        "      total[a].append(j)\n",
        "      total[a].append([])\n",
        "      if n == 0:\n",
        "        barr.append(i)\n",
        "        params.append(i)\n",
        "        n =1\n",
        "      if j == \"ox\":\n",
        "        params.append(j)\n",
        "        barr.append(j)\n",
        "        for k in oxygen:\n",
        "          if k in barrier:\n",
        "            barr.append(k)\n",
        "      if j == \"ag\":\n",
        "        params.append(j)\n",
        "        barr.append(j)\n",
        "        for k in agua:\n",
        "          if k in barrier:\n",
        "            barr.append(k)\n",
        "      if j == \"ar\":\n",
        "        params.append(j)\n",
        "        barr.append(j)\n",
        "        for k in aroma:\n",
        "          if k in barrier:\n",
        "            barr.append(k)\n",
        "      if j == \"gr\":\n",
        "        params.append(j)\n",
        "        barr.append(j)\n",
        "        for k in grasa:\n",
        "          if k in barrier:\n",
        "            barr.append(k)\n",
        "      a += 1\n",
        "      j = missing[a]\n",
        "    n = 0 \n",
        "  return [barr, params]\n",
        "\n",
        "# --------------------------------------------------------------------\n",
        "# SPLIT BARRIERS\n",
        "# --------------------------------------------------------------------\n",
        "def split_bar (barr, sol):\n",
        "# Get first body, and store -> Read until we reach \n",
        "  A = []\n",
        "  b1 = 0\n",
        "  m = 0\n",
        "  n = 0\n",
        "  # A[0][1]\n",
        "  for i in barr:\n",
        "    if i in sol:\n",
        "      if i != b1:\n",
        "         b1 = i\n",
        "  return 0\n",
        "\n",
        "# --------------------------------------------------------------------\n",
        "#   GET RANGE   \n",
        "# --------------------------------------------------------------------\n",
        "def GetRange (params):\n",
        "  i = 0\n",
        "  rango     = []\n",
        "  oxygenbw  = []\n",
        "  oxlist    = []\n",
        "  aguabw    = []\n",
        "  aglist    = []\n",
        "  aromabw   = []\n",
        "  arlist    = []\n",
        "  grasabw   = []\n",
        "  grlist    = []\n",
        "  body      = []\n",
        "  barrier   = []\n",
        "  adhesive  = [] \n",
        "  for x in params:\n",
        "    if (params[i] == 1 or params[i] == 2): \n",
        "      rango.append(1)\n",
        "      rango.append(2)\n",
        "    if (params[i] == 3): \n",
        "      rango.append(1)\n",
        "      rango.append(3)\n",
        "    if (params[i] == 4 or params[i] == 5): \n",
        "      rango.append(1)\n",
        "      rango.append(5)\n",
        "    i = i+1\n",
        "  return rango\n",
        "\n",
        "\n",
        "# --------------------------------------------------------------------\n",
        "#   REPEATED MATERIALS   \n",
        "# --------------------------------------------------------------------\n",
        "def Repeated (mats,n_params,params_2_match):\n",
        "  times = []\n",
        "  matlist = []\n",
        "  for i in mats:\n",
        "    if i in matlist:\n",
        "       times[matlist.index(i)] += 1\n",
        "    else:\n",
        "      matlist.append(i)\n",
        "      times.append(1)\n",
        "  if n_params == max(times): times.append(7)\n",
        "  return [matlist, times]\n",
        "\n",
        "# --------------------------------------------------------------------\n",
        "#   PRINT FINAL SOLUTION \n",
        "# --------------------------------------------------------------------\n",
        "def PrintSolFinal (ml,t,body,mat,n_sol,n_resin,params_2_match):\n",
        "  mx = max(t)\n",
        "  a = 0\n",
        "  barlist = []\n",
        "  comments = []\n",
        "  total = []\n",
        "  if mx == 7:\n",
        "    print(\"Solution found that fullfilled all barrier chriteria\", params_2_match,\"for:\" ,body)\n",
        "    t.pop()\n",
        "    mx = max(t)\n",
        "    for i in ml:\n",
        "      if t[ml.index(i)] == mx:\n",
        "        barlist.append(ml[a])\n",
        "        if n_resin == \"PE\":\n",
        "          cmnt = comments.append(mat.PE[n_sol])\n",
        "          if cmnt != 'nan':\n",
        "            aux = \"For:\" , ml[a], \"beware that\" , mat.PE[n_sol]\n",
        "            total.append(aux)\n",
        "        if n_resin == \"PP\":\n",
        "          cmnt = comments.append(mat.PP[n_sol])\n",
        "          if cmnt != 'nan':\n",
        "            aux = \"For:\",ml[a], \"beware that\",mat.PP[n_sol]\n",
        "            total.append(aux)\n",
        "      a += 1\n",
        "  else:\n",
        "    mx = max(t)\n",
        "    for i in ml:\n",
        "      if t[ml.index(i)] == mx:\n",
        "        barlist.append(ml[a])\n",
        "        if n_resin == \"PE\":\n",
        "          comments.append(mat.PE[n_sol])\n",
        "          aux = \"For:\",ml[a], \"beware that\",mat.PE[n_sol]\n",
        "          total.append(aux)\n",
        "        if n_resin == \"PP\":\n",
        "          comments.append(mat.PP[n_sol])\n",
        "          aux = \"For:\",ml[a], \"beware that\",mat.PP[n_sol]\n",
        "          total.append(aux)\n",
        "      a += 1\n",
        "  print(\"Possible barriers:\", barlist) \n",
        "  if total: print(total)\n",
        "  else: print(\"No additional comments required for this solution.\")\n",
        "  print( \" ------------------------------ \")  \n",
        "  return 0\n",
        "    \n",
        "# --------------------------------------------------------------------\n",
        "#   REPEATED BARRIERS   \n",
        "# --------------------------------------------------------------------\n",
        "def RepeatedBarr (sol,barr,mat,sol_nr,sol_resin,params_list):\n",
        "  params = ['ox','ag','ar','gr']\n",
        "  n_body = -1\n",
        "  n_params = 0\n",
        "  a = 1\n",
        "  params_2_match = []\n",
        "  aux = []\n",
        "  mats = []\n",
        "  final = len(barr)\n",
        "  for i in barr:\n",
        "    if i in sol or a == final:\n",
        "      if n_body > -1:\n",
        "        n_sol = sol_nr[n_body]\n",
        "        r_sol = sol_resin[n_body]\n",
        "        if mats:\n",
        "          [mlist , times] = Repeated(mats,n_params,params_2_match)\n",
        "          psol = PrintSolFinal (mlist,times,body,mat,n_sol,r_sol,params_2_match)\n",
        "      mats = []\n",
        "      params_2_match = [] \n",
        "      body = i       \n",
        "      n_body += 1\n",
        "      n_params = 0\n",
        "    elif i in params:\n",
        "      params_2_match.append(i)\n",
        "      n_params += 1\n",
        "    else:\n",
        "      mats.append(i)\n",
        "    a += 1\n",
        "  return aux"
      ]
    },
    {
      "cell_type": "markdown",
      "metadata": {
        "id": "UaQpn6uZwyi6"
      },
      "source": [
        ""
      ]
    },
    {
      "cell_type": "markdown",
      "metadata": {
        "id": "11naouYlWy6Q"
      },
      "source": [
        "## 3. Run rest"
      ]
    },
    {
      "cell_type": "code",
      "execution_count": null,
      "metadata": {
        "id": "l4kbFUTx0ZcR"
      },
      "outputs": [],
      "source": [
        "food_type_parameters = GetParameters(ft_prop)"
      ]
    },
    {
      "cell_type": "markdown",
      "metadata": {
        "id": "wziCI06PQuTh"
      },
      "source": [
        "### Materials before waste stream"
      ]
    },
    {
      "cell_type": "code",
      "execution_count": null,
      "metadata": {
        "id": "j39zzDN52HSm"
      },
      "outputs": [],
      "source": [
        "[oxygen_bws,ox_list,water_bws,wt_list,aroma_bws,ar_list,grease_bws,gr_list,body_mats,barrier_mats,adhesive_mats] = MaterialsWithSimilarProperties(food_type_parameters,dim_mat,mat)"
      ]
    },
    {
      "cell_type": "markdown",
      "metadata": {
        "id": "r2Nwsv8wgFkS"
      },
      "source": [
        "### Materials after waste stream"
      ]
    },
    {
      "cell_type": "code",
      "execution_count": null,
      "metadata": {
        "colab": {
          "base_uri": "https://localhost:8080/"
        },
        "id": "63WqdZqIgF68",
        "outputId": "2a8893a5-d8cf-4daf-dc0d-b02c13a9ba09"
      },
      "outputs": [
        {
          "output_type": "stream",
          "name": "stdout",
          "text": [
            "Oxygen AWS: \t ['ACR', 'PVOH', 'EVOH32', 'EVOH44', 'AlOx', 'SiOx']\n",
            "Water  AWS: \t ['MDPE', 'ACR', 'EVOH32', 'EVA', 'EMA']\n",
            "Aroma  AWS: \t ['PVOH', 'EVOH32', 'EVOH44', 'PETg']\n",
            "Grease AWS: \t ['HDPE', 'COC', 'PETg', 'EAA']\n",
            "['ACR', 'PVOH', 'EVOH32', 'EVOH44', 'AlOx', 'SiOx', 'MDPE', 'EVA', 'EMA', 'PETg', 'HDPE', 'COC', 'EAA']\n",
            "[2, 2, 3, 2, 1, 1, 1, 1, 1, 2, 1, 1, 1]\n"
          ]
        }
      ],
      "source": [
        "[oxygen, water, aroma, grease] = WasteStreamFilter(ox_list,wt_list,ar_list,gr_list)\n",
        "[materials_list, times] = RepeatedMaterials(oxygen,water,aroma,grease)"
      ]
    },
    {
      "cell_type": "markdown",
      "source": [
        "### Solution"
      ],
      "metadata": {
        "id": "YT7fWxeans6a"
      }
    },
    {
      "cell_type": "code",
      "execution_count": null,
      "metadata": {
        "colab": {
          "base_uri": "https://localhost:8080/"
        },
        "id": "AcW28pIHqypc",
        "outputId": "7ac514b3-c0d2-4769-ba83-1f0eb5bb3212"
      },
      "outputs": [
        {
          "output_type": "stream",
          "name": "stdout",
          "text": [
            "['LDPE', 'LLDPE', 'MDPE', 'ULDPE', 'HDPE', 'mPE', 'COC', 'PP', 'BOPP', 'PC', 'BOPET', 'PA6', 'PA66', 'PU', 'PS', 'PLA', 'Cellulose']\n",
            "No material available\n",
            "Not solution could be found for the selected FoodType. \n",
            " Try changing the food type :)\n"
          ]
        }
      ],
      "source": [
        "sol = FindSol(materials_list,times,body_mats)\n",
        "if 'BOPET' in sol:\n",
        "  print(\"For BOPET -> Focus on rigid instead of flexible.\")\n",
        "if sol:\n",
        "  missing = MissingAtr(sol,oxygen,water,aroma,grease,food_type_parameters) # Missing attributes\n",
        "  barriers_WSF = WSFilter(barrier_mats,materials_list)  # Waste Stream filter for possible barriers\n",
        "  [barriers,barrier_parameters] = PossibleBarriers(sol, oxygen, water, aroma, grease, barriers_WSF)\n",
        "  [sol_nr,sol_resin] = find_nr(sol,materials_list)\n",
        "  a = RepeatedBarr(sol,barriers,materials_list,sol_nr,sol_resin,barrier_parameters)\n",
        "else:\n",
        "  print(\"Not solution could be found for the selected Food Type. \\n Try changing the food type, and run again.\")"
      ]
    }
  ],
  "metadata": {
    "accelerator": "GPU",
    "colab": {
      "collapsed_sections": [
        "AFL2h3OGFlYc",
        "ylKmocmcSVoV",
        "U2M9UtzvPjcU",
        "QB6AHWUmwuiH",
        "11naouYlWy6Q"
      ],
      "name": "Material_Selection.ipynb",
      "provenance": []
    },
    "kernelspec": {
      "display_name": "Python 3",
      "name": "python3"
    },
    "language_info": {
      "name": "python"
    }
  },
  "nbformat": 4,
  "nbformat_minor": 0
}